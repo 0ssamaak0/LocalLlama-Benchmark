{
 "cells": [
  {
   "cell_type": "code",
   "execution_count": 1,
   "metadata": {},
   "outputs": [],
   "source": [
    "import numpy as np\n",
    "import pandas as pd"
   ]
  },
  {
   "cell_type": "markdown",
   "metadata": {},
   "source": [
    "# CPU"
   ]
  },
  {
   "cell_type": "code",
   "execution_count": 2,
   "metadata": {},
   "outputs": [],
   "source": [
    "df_cpu = pd.read_csv(\"CPU_UserBenchmarks.csv\")\n",
    "# take only brand and model\n",
    "df_cpu = df_cpu[[\"Brand\", \"Model\"]]"
   ]
  },
  {
   "cell_type": "code",
   "execution_count": 3,
   "metadata": {},
   "outputs": [],
   "source": [
    "# ADD APPLE SILICON\n",
    "df_cpu.loc[len(df_cpu)] = pd.Series({\"Brand\": \"Apple\", \"Model\": \"M1\"})\n",
    "df_cpu.loc[len(df_cpu)] = pd.Series({\"Brand\": \"Apple\", \"Model\": \"M1 Pro\"})\n",
    "df_cpu.loc[len(df_cpu)] = pd.Series({\"Brand\": \"Apple\", \"Model\": \"M1 Max\"})\n",
    "df_cpu.loc[len(df_cpu)] = pd.Series({\"Brand\": \"Apple\", \"Model\": \"M1 Ultra\"})\n",
    "df_cpu.loc[len(df_cpu)] = pd.Series({\"Brand\": \"Apple\", \"Model\": \"M2\"})\n",
    "df_cpu.loc[len(df_cpu)] = pd.Series({\"Brand\": \"Apple\", \"Model\": \"M2 Pro\"})\n",
    "df_cpu.loc[len(df_cpu)] = pd.Series({\"Brand\": \"Apple\", \"Model\": \"M2 Max\"})\n",
    "df_cpu.loc[len(df_cpu)] = pd.Series({\"Brand\": \"Apple\", \"Model\": \"M2 Ultra\"})\n",
    "df_cpu.loc[len(df_cpu)] = pd.Series({\"Brand\": \"Apple\", \"Model\": \"M3\"})\n",
    "df_cpu.loc[len(df_cpu)] = pd.Series({\"Brand\": \"Apple\", \"Model\": \"M3 Pro\"})\n",
    "df_cpu.loc[len(df_cpu)] = pd.Series({\"Brand\": \"Apple\", \"Model\": \"M3 Max\"})"
   ]
  },
  {
   "cell_type": "code",
   "execution_count": 4,
   "metadata": {},
   "outputs": [],
   "source": [
    "import json\n",
    "\n",
    "# Convert the DataFrame to a dictionary\n",
    "df_dict = df_cpu.set_index([\"Brand\"])[\"Model\"].groupby([\"Brand\"]).apply(list).to_dict()\n",
    "\n",
    "# Create the desired hierarchical structure\n",
    "result = {}\n",
    "for (brand), models in df_dict.items():\n",
    "    if brand not in result:\n",
    "        result[brand] = {}\n",
    "    result[brand] = models\n",
    "\n",
    "# Save the hierarchical structure to a JSON file\n",
    "with open(\"cpu.json\", \"w\") as f:\n",
    "    json.dump(result, f, indent=4)"
   ]
  },
  {
   "cell_type": "markdown",
   "metadata": {},
   "source": [
    "# GPU"
   ]
  },
  {
   "cell_type": "code",
   "execution_count": 5,
   "metadata": {},
   "outputs": [],
   "source": [
    "df_gpu = pd.read_csv(\"GPU_UserBenchmarks.csv\")\n",
    "df_gpu = df_gpu[[\"Brand\", \"Model\"]]"
   ]
  },
  {
   "cell_type": "code",
   "execution_count": 6,
   "metadata": {},
   "outputs": [],
   "source": [
    "df_gpu = df_gpu[df_gpu[\"Brand\"].isin([\"Nvidia\", \"AMD\", \"Intel\"])]"
   ]
  },
  {
   "cell_type": "code",
   "execution_count": 7,
   "metadata": {},
   "outputs": [],
   "source": [
    "import json\n",
    "\n",
    "# Convert the DataFrame to a dictionary\n",
    "df_dict = df_gpu.set_index([\"Brand\"])[\"Model\"].groupby([\"Brand\"]).apply(list).to_dict()\n",
    "\n",
    "# Create the desired hierarchical structure\n",
    "result = {}\n",
    "for (brand), models in df_dict.items():\n",
    "    if brand not in result:\n",
    "        result[brand] = {}\n",
    "    result[brand] = models\n",
    "\n",
    "# Save the hierarchical structure to a JSON file\n",
    "with open(\"gpu.json\", \"w\") as f:\n",
    "    json.dump(result, f, indent=4)"
   ]
  },
  {
   "cell_type": "code",
   "execution_count": null,
   "metadata": {},
   "outputs": [],
   "source": []
  }
 ],
 "metadata": {
  "kernelspec": {
   "display_name": "main",
   "language": "python",
   "name": "python3"
  },
  "language_info": {
   "codemirror_mode": {
    "name": "ipython",
    "version": 3
   },
   "file_extension": ".py",
   "mimetype": "text/x-python",
   "name": "python",
   "nbconvert_exporter": "python",
   "pygments_lexer": "ipython3",
   "version": "3.11.9"
  }
 },
 "nbformat": 4,
 "nbformat_minor": 2
}
