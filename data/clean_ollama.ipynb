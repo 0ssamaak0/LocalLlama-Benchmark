{
 "cells": [
  {
   "cell_type": "code",
   "execution_count": 22,
   "metadata": {},
   "outputs": [],
   "source": [
    "import pandas as pd\n",
    "import json\n",
    "import requests"
   ]
  },
  {
   "cell_type": "code",
   "execution_count": 23,
   "metadata": {},
   "outputs": [],
   "source": [
    "# URL of the JSON data\n",
    "url = \"https://ollama-models.zwz.workers.dev/\"\n",
    "\n",
    "# Send a GET request to the URL\n",
    "response = requests.get(url)\n",
    "\n",
    "# Load the JSON data from the response\n",
    "data = json.loads(response.text)\n",
    "\n",
    "data[\"models\"]\n",
    "# convert it to pandas df\n",
    "df = pd.DataFrame(data[\"models\"])\n",
    "# explode tags\n",
    "df = df.explode(\"tags\")\n",
    "df = df[[\"name\", \"tags\"]]"
   ]
  },
  {
   "cell_type": "code",
   "execution_count": 25,
   "metadata": {},
   "outputs": [],
   "source": [
    "import re\n",
    "\n",
    "\n",
    "def extract_params(tag):\n",
    "    match = re.search(r\"^(\\d+\\.\\d+)|(\\d+x\\d+b)|(\\d+b)\", tag)\n",
    "    if match:\n",
    "        return match.group()\n",
    "    else:\n",
    "        return None\n",
    "\n",
    "\n",
    "df[\"nparams\"] = df[\"tags\"].apply(extract_params)\n",
    "# remove rows with nparams == None\n",
    "df = df[df[\"nparams\"].notna()]\n",
    "# if any nparams doesn't end with letter b, append it\n",
    "df[\"nparams\"] = df[\"nparams\"].apply(lambda x: x + \"b\" if x[-1] != \"b\" else x)"
   ]
  },
  {
   "cell_type": "code",
   "execution_count": 27,
   "metadata": {},
   "outputs": [],
   "source": [
    "def extract_quant(tag):\n",
    "    # Match either 'q' followed by alphanumeric characters or 'fp' followed by alphanumeric characters\n",
    "    match = re.search(r\"(q|fp)\\w+\", tag)\n",
    "    if match:\n",
    "        return match.group()\n",
    "    else:\n",
    "        return None\n",
    "\n",
    "\n",
    "df[\"quant\"] = df[\"tags\"].apply(extract_quant)\n",
    "df = df[df[\"quant\"].notna()]\n",
    "# capitalize the columnn\n",
    "df[\"quant\"] = df[\"quant\"].apply(lambda x: x.upper())"
   ]
  },
  {
   "cell_type": "code",
   "execution_count": 28,
   "metadata": {},
   "outputs": [],
   "source": [
    "df = df[[\"name\", \"nparams\", \"quant\"]]"
   ]
  },
  {
   "cell_type": "code",
   "execution_count": 29,
   "metadata": {},
   "outputs": [],
   "source": [
    "# remove any duplicate rows\n",
    "df = df.drop_duplicates()"
   ]
  },
  {
   "cell_type": "code",
   "execution_count": 30,
   "metadata": {},
   "outputs": [],
   "source": [
    "# Convert the DataFrame to a dictionary\n",
    "df_dict = (\n",
    "    df.set_index([\"name\", \"nparams\"])[\"quant\"]\n",
    "    .groupby([\"name\", \"nparams\"])\n",
    "    .apply(list)\n",
    "    .to_dict()\n",
    ")\n",
    "\n",
    "# Create the desired hierarchical structure\n",
    "result = {}\n",
    "for (name, nparams), quant in df_dict.items():\n",
    "    if name not in result:\n",
    "        result[name] = {}\n",
    "    result[name][nparams] = quant\n",
    "\n",
    "# Save the hierarchical structure to a JSON file\n",
    "with open(\"ollama_models.json\", \"w\") as f:\n",
    "    json.dump(result, f, indent=4)"
   ]
  }
 ],
 "metadata": {
  "kernelspec": {
   "display_name": "main",
   "language": "python",
   "name": "python3"
  },
  "language_info": {
   "codemirror_mode": {
    "name": "ipython",
    "version": 3
   },
   "file_extension": ".py",
   "mimetype": "text/x-python",
   "name": "python",
   "nbconvert_exporter": "python",
   "pygments_lexer": "ipython3",
   "version": "3.11.9"
  }
 },
 "nbformat": 4,
 "nbformat_minor": 2
}
